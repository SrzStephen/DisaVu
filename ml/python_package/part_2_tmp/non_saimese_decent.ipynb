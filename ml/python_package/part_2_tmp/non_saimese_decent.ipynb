{
 "cells": [
  {
   "cell_type": "code",
   "execution_count": 1,
   "metadata": {},
   "outputs": [
    {
     "name": "stderr",
     "output_type": "stream",
     "text": [
      "/home/stephen/anaconda3/envs/sol5/lib/python3.6/site-packages/tensorflow/python/framework/dtypes.py:526: FutureWarning: Passing (type, 1) or '1type' as a synonym of type is deprecated; in a future version of numpy, it will be understood as (type, (1,)) / '(1,)type'.\n",
      "  _np_qint8 = np.dtype([(\"qint8\", np.int8, 1)])\n",
      "/home/stephen/anaconda3/envs/sol5/lib/python3.6/site-packages/tensorflow/python/framework/dtypes.py:527: FutureWarning: Passing (type, 1) or '1type' as a synonym of type is deprecated; in a future version of numpy, it will be understood as (type, (1,)) / '(1,)type'.\n",
      "  _np_quint8 = np.dtype([(\"quint8\", np.uint8, 1)])\n",
      "/home/stephen/anaconda3/envs/sol5/lib/python3.6/site-packages/tensorflow/python/framework/dtypes.py:528: FutureWarning: Passing (type, 1) or '1type' as a synonym of type is deprecated; in a future version of numpy, it will be understood as (type, (1,)) / '(1,)type'.\n",
      "  _np_qint16 = np.dtype([(\"qint16\", np.int16, 1)])\n",
      "/home/stephen/anaconda3/envs/sol5/lib/python3.6/site-packages/tensorflow/python/framework/dtypes.py:529: FutureWarning: Passing (type, 1) or '1type' as a synonym of type is deprecated; in a future version of numpy, it will be understood as (type, (1,)) / '(1,)type'.\n",
      "  _np_quint16 = np.dtype([(\"quint16\", np.uint16, 1)])\n",
      "/home/stephen/anaconda3/envs/sol5/lib/python3.6/site-packages/tensorflow/python/framework/dtypes.py:530: FutureWarning: Passing (type, 1) or '1type' as a synonym of type is deprecated; in a future version of numpy, it will be understood as (type, (1,)) / '(1,)type'.\n",
      "  _np_qint32 = np.dtype([(\"qint32\", np.int32, 1)])\n",
      "/home/stephen/anaconda3/envs/sol5/lib/python3.6/site-packages/tensorflow/python/framework/dtypes.py:535: FutureWarning: Passing (type, 1) or '1type' as a synonym of type is deprecated; in a future version of numpy, it will be understood as (type, (1,)) / '(1,)type'.\n",
      "  np_resource = np.dtype([(\"resource\", np.ubyte, 1)])\n"
     ]
    }
   ],
   "source": [
    "%reload_ext autoreload\n",
    "%autoreload 2\n",
    "%matplotlib inline\n",
    "from fastai.vision.all import *\n",
    "from fastai.callback.tensorboard import TensorBoardCallback\n",
    "tensorboard_dir = \"/home/stephen/pythonProject1/mylogdir/\"\n",
    "from shapely import wkt"
   ]
  },
  {
   "cell_type": "code",
   "execution_count": 2,
   "metadata": {
    "pycharm": {
     "name": "#%%\n"
    }
   },
   "outputs": [],
   "source": [
    "from fastai.vision.all import *\n",
    "from typing import Tuple, List, Union\n",
    "from typing_extensions import Literal, TypedDict\n",
    "from pathlib import Path\n",
    "import json\n",
    "from re import match\n",
    "from functools import lru_cache\n",
    "from sklearn.model_selection import train_test_split\n",
    "import PIL\n",
    "from fastai.data.core import DataLoaders\n",
    "import shutil\n",
    "from fastai.callback.all import *\n",
    "from fastprogress import fastprogress\n",
    "import requests, zipfile\n",
    "fastprogress.printing = lambda: True\n",
    "import requests\n",
    "import tarfile"
   ]
  },
  {
   "cell_type": "code",
   "execution_count": 9,
   "outputs": [
    {
     "name": "stdout",
     "output_type": "stream",
     "text": [
      "/home/stephen/BuildingDamage/ml/python_package/part_2_tmp/download\n",
      "False\n"
     ]
    }
   ],
   "source": [
    "# Dataset citation\n",
    "#Ritwik Gupta, Bryce Goodman, Nirav Patel, Richard Hosfelt, Sandra Sajeev, Eric Heim, Jigar Doshi, Keane Lucas, Howie Choset, Matthew Gaston.\n",
    "#Creating xBD: A Dataset for Assessing Building Damage from Satellite Imagery.\n",
    "# The IEEE Conference on Computer Vision and Pattern Recognition (CVPR) Workshops, 2019, pp. 10-17.\n",
    "##\n",
    "download_dir = Path().resolve() / \"download\"\n",
    "if not download_dir.exists():\n",
    "    download_dir.mkdir(parents=True)\n",
    "\n",
    "file_name = download_dir / 'tier3.tar'\n",
    "print(download_dir)\n",
    "print(file_name.exists())\n",
    "if not file_name.exists():\n",
    "    # credit to https://gist.github.com/devhero/8ae2229d9ea1a59003ced4587c9cb236 for this one\n",
    "    # thanks bhuiyanmobasshir94\n",
    "    with open(file_name, 'wb') as fp:\n",
    "        response = requests.get(download_link, stream=True)\n",
    "        for chunk in response.raw.stream(1024, decode_content=False):\n",
    "            if chunk:\n",
    "                fp.write(chunk)\n",
    "                fp.flush()\n",
    "\n",
    "tarfile.open(file_name).extractall()\n",
    "\n",
    "tier_3_loc = download_dir / \"tier3\""
   ],
   "metadata": {
    "collapsed": false,
    "pycharm": {
     "name": "#%%\n"
    }
   }
  },
  {
   "cell_type": "code",
   "execution_count": null,
   "metadata": {
    "pycharm": {
     "name": "#%%\n"
    }
   },
   "outputs": [],
   "source": [
    "def get_labels_in_memory(my_dir:Path, trim_by_size=False,trim_size_px=25*25)-> dict:\n",
    "    return_dict = {}\n",
    "    n_items = 0\n",
    "    n_not_trimmed =0\n",
    "    for item in my_dir.glob('*_post_disaster.json'):\n",
    "        with open(item.absolute()) as fp:\n",
    "            for item in json.load(fp)['features']['xy']:\n",
    "                n_items +=1\n",
    "                uid = item['properties']['uid']\n",
    "                output = item['properties']['subtype']\n",
    "                if trim_by_size:\n",
    "                    poly = wkt.loads(item['wkt'])\n",
    "                    if poly.area > trim_size_px:\n",
    "                        n_not_trimmed+=1\n",
    "                        return_dict[uid] = output\n",
    "                else:\n",
    "                    return_dict[uid] = output\n",
    "    if trim_by_size:\n",
    "        print(f\"Shown {n_not_trimmed} out of {n_items}\")\n",
    "    return return_dict\n",
    "\n",
    "label_list = get_labels_in_memory(Path('/home/stephen/AwsMLHack/data/xview/train_images_labels_targets/train/labels'),trim_by_size=True)\n",
    "\n",
    "label_types = set([x for x in label_list.values()])\n",
    "print(label_types)"
   ]
  },
  {
   "cell_type": "code",
   "execution_count": null,
   "metadata": {
    "pycharm": {
     "name": "#%%\n"
    }
   },
   "outputs": [],
   "source": []
  },
  {
   "cell_type": "code",
   "execution_count": null,
   "metadata": {
    "pycharm": {
     "name": "#%%\n"
    }
   },
   "outputs": [],
   "source": [
    "# Modify so that we only care about major-damage/destroyed, no-damage and minor damage gets treated as undamaged\n",
    "# Ignore un-classified\n",
    "unclassified_uids = [k for k,v in label_list.items() if v =='un-classified']\n",
    "\n",
    "label_list = {k:'undamaged' if v in ['no-damage'] else 'damaged' for k,v in label_list.items() if v not in ['un-classified','minor-damage']}\n",
    "label_list_damage_type = dict(\n",
    "    damaged = [k for k,v in label_list.items() if v=='damaged'],\n",
    "    undamaged = [k for k,v in label_list.items() if v=='undamaged'],\n",
    "\n",
    ")"
   ]
  },
  {
   "cell_type": "code",
   "execution_count": null,
   "metadata": {
    "pycharm": {
     "name": "#%%\n"
    }
   },
   "outputs": [],
   "source": [
    "print(len(label_list_damage_type['damaged']))\n",
    "print(len(label_list_damage_type['undamaged']))"
   ]
  },
  {
   "cell_type": "code",
   "execution_count": null,
   "metadata": {
    "pycharm": {
     "name": "#%%\n"
    }
   },
   "outputs": [],
   "source": [
    "labels = ['undamaged','damaged']\n",
    "# UID\n",
    "uid_extract = re.compile('[a-fA-F0-9]{8}-[a-fA-F0-9]{4}-[a-fA-F0-9]{4}-[a-fA-F0-9]{4}-[a-fA-F0-9]{12}')\n",
    "\n",
    "print(uid_extract.search(\"hurricane-michael_00000549_pre_disaster_ffe60f5c-037d-48d7-9fb1-34962a32241d.png\")[0])\n",
    "\n",
    "@lru_cache\n",
    "def label_func(filename:Union[str,Path])-> str:\n",
    "    if not isinstance(filename,str):\n",
    "        return label_list[uid_extract.search(filename.absolute().__str__())[0]]\n",
    "    else:\n",
    "        return label_list[uid_extract.search(filename)[0]]\n",
    "label_func(\"hurricane-michael_00000549_pre_disaster_ffe60f5c-037d-48d7-9fb1-34962a32241d.png\")\n"
   ]
  },
  {
   "cell_type": "code",
   "execution_count": null,
   "metadata": {
    "pycharm": {
     "name": "#%%\n"
    }
   },
   "outputs": [],
   "source": [
    "image_filenames = []\n",
    "for image_filename in Path('/home/stephen/AwsMLHack/data/xview/train_images_labels_targets/train/output').glob(\"*.png\"):\n",
    "    if uid_extract.search(image_filename.stem)[0] in label_list.keys():\n",
    "        image_filenames.append(image_filename.absolute().__str__())\n",
    "\n",
    "print(len(image_filenames))"
   ]
  },
  {
   "cell_type": "code",
   "execution_count": null,
   "metadata": {
    "pycharm": {
     "name": "#%%\n"
    }
   },
   "outputs": [],
   "source": [
    "base = f\"/home/stephen/AwsMLHack/data/xview_data/\"\n",
    "for label in labels:\n",
    "    p = Path(f\"{base}{label}/\")\n",
    "    if p.exists():\n",
    "        shutil.rmtree(p.absolute().__str__())\n",
    "    p.mkdir(parents=True)\n",
    "for file in image_filenames:\n",
    "\n",
    "\n",
    "\n",
    "    try:\n",
    "        shutil.copy(file,f\"{base}{label_func(file)}/{Path(file).name}\")\n",
    "    except Exception as e:\n",
    "        print(file)\n",
    "        print(e)\n",
    "        pass"
   ]
  },
  {
   "cell_type": "code",
   "execution_count": null,
   "metadata": {
    "pycharm": {
     "name": "#%%\n"
    }
   },
   "outputs": [],
   "source": [
    "def open_image(fname, size=224):\n",
    "    img = PIL.Image.open(fname).convert('RGB')\n",
    "    img = img.resize((size, size))\n",
    "    t = torch.Tensor(np.array(img))\n",
    "    return t.permute(2,0,1).float()/255.0\n"
   ]
  },
  {
   "cell_type": "code",
   "execution_count": null,
   "metadata": {
    "pycharm": {
     "name": "#%%\n"
    }
   },
   "outputs": [],
   "source": [
    "@lru_cache\n",
    "def label_func(filename:Union[str,Path])-> str:\n",
    "    if type(filename) != str:\n",
    "        return label_list[uid_extract.search(filename.absolute().__str__())[0]]\n",
    "    else:\n",
    "        return label_list[uid_extract.search(filename)[0]]\n",
    "from fastai.vision.core import *\n",
    "from fastai.vision.data import *\n",
    "\n",
    "db = DataBlock(\n",
    "    blocks=(ImageBlock,CategoryBlock),\n",
    "    get_items=get_image_files,\n",
    "    splitter = RandomSplitter(valid_pct=0.2,seed=42),\n",
    "    get_y = label_func,\n",
    "    item_tfms=Resize(256),\n",
    ")"
   ]
  },
  {
   "cell_type": "code",
   "execution_count": null,
   "metadata": {
    "pycharm": {
     "name": "#%%\n"
    }
   },
   "outputs": [],
   "source": [
    "batch_tfms = [Normalize.from_stats(*imagenet_stats)] #\n",
    "\n",
    "dl = db.dataloaders('/home/stephen/AwsMLHack/data/xview_data/',shuffle=True,bs=64,batch_tfms=batch_tfms)\n",
    "print(dl.shuffle)\n",
    "dl.show_batch()"
   ]
  },
  {
   "cell_type": "code",
   "execution_count": null,
   "metadata": {
    "pycharm": {
     "name": "#%%\n"
    }
   },
   "outputs": [],
   "source": [
    "dl.show_batch()"
   ]
  },
  {
   "cell_type": "code",
   "execution_count": null,
   "metadata": {
    "pycharm": {
     "name": "#%%\n"
    }
   },
   "outputs": [],
   "source": [
    "#FloatTensor([0.55,0.45]).cuda()\n",
    "cb = [TensorBoardCallback(log_dir= tensorboard_dir + \"default-loss-normalised\"), ReduceLROnPlateau(monitor='valid_loss', min_delta=0.1, patience=2)]\n",
    "learn = cnn_learner(dl, resnet34, metrics=[error_rate,Recall(labels=labels),Precision(labels=labels)],cbs=cb)\n",
    "learn.fit_one_cycle(5,slice(0.003,0.008))\n",
    "learn.save(\"basic-bitch-model1\")\n",
    "interp = ClassificationInterpretation.from_learner(learn)\n",
    "interp.plot_confusion_matrix()\n",
    "learn.unfreeze()\n",
    "learn.fit_one_cycle(8,slice(0.00005,0.0001))\n",
    "interp = ClassificationInterpretation.from_learner(learn)\n",
    "learn.save(\"basic-bitch-model1\")\n",
    "interp.plot_confusion_matrix()\n"
   ]
  },
  {
   "cell_type": "markdown",
   "source": [],
   "metadata": {
    "collapsed": false
   }
  },
  {
   "cell_type": "code",
   "execution_count": null,
   "outputs": [],
   "source": [
    "learn.fit_one_cycle(10,slice(0.0005,0.001))\n",
    "interp = ClassificationInterpretation.from_learner(learn)\n",
    "learn.save(\"basic-bitch-model1\")\n",
    "interp.plot_confusion_matrix()\n"
   ],
   "metadata": {
    "collapsed": false,
    "pycharm": {
     "name": "#%%\n"
    }
   }
  },
  {
   "cell_type": "code",
   "execution_count": null,
   "outputs": [],
   "source": [
    "getattr(dl.train_ds, 'loss_func', None)"
   ],
   "metadata": {
    "collapsed": false,
    "pycharm": {
     "name": "#%%\n"
    }
   }
  },
  {
   "cell_type": "code",
   "execution_count": null,
   "metadata": {
    "pycharm": {
     "name": "#%%\n"
    }
   },
   "outputs": [],
   "source": [
    "cb = TensorBoardCallback(log_dir= tensorboard_dir + \"Focal-Gamma3\")\n",
    "learn = cnn_learner(dl, resnet34, metrics=[error_rate,Recall(labels=labels),Precision(labels=labels)], loss_func=FocalLossFlat(gamma=3),cbs=cb)\n",
    "learn.fit_one_cycle(3,0.002)\n",
    "interp = ClassificationInterpretation.from_learner(learn)\n",
    "interp.plot_confusion_matrix()\n",
    "learn.fit_one_cycle(3,slice(0.00005,0.0001))\n",
    "interp = ClassificationInterpretation.from_learner(learn)\n",
    "learn.save(\"basic-bitch-model1\")\n",
    "interp.plot_confusion_matrix()"
   ]
  },
  {
   "cell_type": "code",
   "execution_count": null,
   "metadata": {
    "pycharm": {
     "name": "#%%\n"
    }
   },
   "outputs": [],
   "source": []
  },
  {
   "cell_type": "code",
   "execution_count": null,
   "metadata": {
    "pycharm": {
     "name": "#%%\n"
    }
   },
   "outputs": [],
   "source": [
    "cb = TensorBoardCallback(log_dir= tensorboard_dir + \"Focal-Gamma5\")\n",
    "learn = cnn_learner(dl, resnet34, metrics=[error_rate,Recall(labels=labels),Precision(labels=labels)], loss_func=FocalLossFlat(gamma=5),cbs=cb)\n",
    "learn.fit_one_cycle(5,0.002)\n",
    "learn.show_results(max_n=16)\n",
    "interp = ClassificationInterpretation.from_learner(learn)\n",
    "interp.plot_confusion_matrix()"
   ]
  },
  {
   "cell_type": "code",
   "execution_count": null,
   "metadata": {
    "pycharm": {
     "name": "#%%\n"
    }
   },
   "outputs": [],
   "source": [
    "interp = ClassificationInterpretation.from_learner(learn)\n",
    "interp.plot_confusion_matrix()"
   ]
  },
  {
   "cell_type": "code",
   "execution_count": null,
   "metadata": {
    "pycharm": {
     "name": "#%%\n"
    }
   },
   "outputs": [],
   "source": [
    "learn.fit_one_cycle(5,0.002,)\n",
    "interp = ClassificationInterpretation.from_learner(learn)\n",
    "interp.plot_confusion_matrix()"
   ]
  },
  {
   "cell_type": "code",
   "execution_count": null,
   "metadata": {
    "pycharm": {
     "name": "#%%\n"
    }
   },
   "outputs": [],
   "source": [
    "learn.show_results()"
   ]
  },
  {
   "cell_type": "code",
   "execution_count": null,
   "metadata": {
    "pycharm": {
     "name": "#%%\n"
    }
   },
   "outputs": [],
   "source": [
    "learn.save(\"basic-bitch-model\")"
   ]
  },
  {
   "cell_type": "code",
   "execution_count": null,
   "metadata": {
    "pycharm": {
     "name": "#%%\n"
    }
   },
   "outputs": [],
   "source": [
    "learn.unfreeze()\n",
    "learn.fit_one_cycle(3,slice(0.00005,0.0001))\n",
    "interp = ClassificationInterpretation.from_learner(learn)\n",
    "learn.save(\"basic-bitch-model1\")\n",
    "interp.plot_confusion_matrix()"
   ]
  },
  {
   "cell_type": "code",
   "execution_count": null,
   "metadata": {
    "pycharm": {
     "name": "#%%\n"
    }
   },
   "outputs": [],
   "source": []
  },
  {
   "cell_type": "code",
   "execution_count": null,
   "metadata": {
    "pycharm": {
     "name": "#%%\n"
    }
   },
   "outputs": [],
   "source": [
    "learn.show_results()"
   ]
  },
  {
   "cell_type": "code",
   "execution_count": null,
   "metadata": {
    "pycharm": {
     "name": "#%%\n"
    }
   },
   "outputs": [],
   "source": [
    "learn.fit_one_cycle(1,0.002)\n",
    "interp = ClassificationInterpretation.from_learner(learn)\n",
    "learn.save(\"basic-bitch-model2\")\n",
    "interp.plot_confusion_matrix()"
   ]
  },
  {
   "cell_type": "code",
   "execution_count": null,
   "metadata": {
    "pycharm": {
     "name": "#%%\n"
    }
   },
   "outputs": [],
   "source": [
    "learn.show_results()"
   ]
  },
  {
   "cell_type": "code",
   "execution_count": null,
   "metadata": {
    "pycharm": {
     "name": "#%%\n"
    }
   },
   "outputs": [],
   "source": [
    "learn.fit_one_cycle(1,0.002)\n",
    "interp = ClassificationInterpretation.from_learner(learn)\n",
    "learn.save(\"basic-bitch-model3\")\n",
    "interp.plot_confusion_matrix()"
   ]
  },
  {
   "cell_type": "code",
   "execution_count": null,
   "metadata": {
    "pycharm": {
     "name": "#%%\n"
    }
   },
   "outputs": [],
   "source": [
    "learn.show_results()"
   ]
  },
  {
   "cell_type": "code",
   "execution_count": null,
   "metadata": {
    "pycharm": {
     "name": "#%%\n"
    }
   },
   "outputs": [],
   "source": [
    "learn.fit_one_cycle(1,0.002)\n",
    "interp = ClassificationInterpretation.from_learner(learn)\n",
    "learn.save(\"basic-bitch-model4\")\n",
    "interp.plot_confusion_matrix()"
   ]
  },
  {
   "cell_type": "code",
   "execution_count": null,
   "metadata": {
    "pycharm": {
     "name": "#%%\n"
    }
   },
   "outputs": [],
   "source": [
    "learn.show_results()"
   ]
  },
  {
   "cell_type": "code",
   "execution_count": null,
   "metadata": {
    "pycharm": {
     "name": "#%%\n"
    }
   },
   "outputs": [],
   "source": [
    "learn.unfreeze()"
   ]
  },
  {
   "cell_type": "code",
   "execution_count": null,
   "metadata": {
    "pycharm": {
     "name": "#%%\n"
    }
   },
   "outputs": [],
   "source": [
    "learn.fit_one_cycle(1,slice(0.00001,0.001))\n",
    "interp = ClassificationInterpretation.from_learner(learn)\n",
    "learn.save(\"basic-bitch-model5\")\n",
    "interp.plot_confusion_matrix()"
   ]
  },
  {
   "cell_type": "code",
   "execution_count": null,
   "metadata": {
    "pycharm": {
     "name": "#%%\n"
    }
   },
   "outputs": [],
   "source": [
    "learn.show_results()"
   ]
  },
  {
   "cell_type": "code",
   "execution_count": null,
   "metadata": {
    "pycharm": {
     "name": "#%%\n"
    }
   },
   "outputs": [],
   "source": [
    "learn.fit_one_cycle(1,0.0001)\n",
    "interp = ClassificationInterpretation.from_learner(learn)\n",
    "learn.save(\"basic-bitch-model6\")\n",
    "interp.plot_confusion_matrix()"
   ]
  },
  {
   "cell_type": "code",
   "execution_count": null,
   "metadata": {
    "pycharm": {
     "name": "#%%\n"
    }
   },
   "outputs": [],
   "source": [
    "learn.show_results()"
   ]
  },
  {
   "cell_type": "code",
   "execution_count": null,
   "metadata": {
    "pycharm": {
     "name": "#%%\n"
    }
   },
   "outputs": [],
   "source": [
    "interp = ClassificationInterpretation.from_learner(learn)\n",
    "interp.plot_confusion_matrix()"
   ]
  },
  {
   "cell_type": "code",
   "execution_count": null,
   "metadata": {
    "pycharm": {
     "name": "#%%\n"
    }
   },
   "outputs": [],
   "source": []
  },
  {
   "cell_type": "code",
   "execution_count": null,
   "metadata": {
    "pycharm": {
     "name": "#%%\n"
    }
   },
   "outputs": [],
   "source": [
    "learn.show_results(max_n=25)"
   ]
  },
  {
   "cell_type": "code",
   "execution_count": null,
   "metadata": {
    "pycharm": {
     "name": "#%%\n"
    }
   },
   "outputs": [],
   "source": []
  }
 ],
 "metadata": {
  "kernelspec": {
   "display_name": "Python 3 (ipykernel)",
   "language": "python",
   "name": "python3"
  },
  "language_info": {
   "codemirror_mode": {
    "name": "ipython",
    "version": 3
   },
   "file_extension": ".py",
   "mimetype": "text/x-python",
   "name": "python",
   "nbconvert_exporter": "python",
   "pygments_lexer": "ipython3",
   "version": "3.9.9"
  }
 },
 "nbformat": 4,
 "nbformat_minor": 1
}